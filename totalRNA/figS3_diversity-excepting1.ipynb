{
 "cells": [
  {
   "cell_type": "code",
   "execution_count": 1,
   "metadata": {},
   "outputs": [],
   "source": [
    "import pandas as pd\n",
    "import numpy as np\n",
    "\n",
    "import matplotlib\n",
    "import matplotlib.pyplot as plt\n",
    "import matplotlib.gridspec as gridspec\n",
    "import seaborn as sns\n",
    "\n",
    "from scipy import stats\n",
    "from Bio import SeqIO\n",
    "\n",
    "import collections\n",
    "from collections import OrderedDict\n",
    "from collections import Counter\n",
    "\n",
    "from skbio.diversity import alpha_diversity\n",
    "from skbio.diversity import beta_diversity\n",
    "from io import StringIO\n",
    "from skbio import TreeNode\n",
    "\n",
    "from skbio.stats.distance import mantel\n",
    "from skbio.stats.distance import anosim\n",
    "from skbio.stats.distance import permanova\n",
    "from skbio.stats.ordination import pcoa"
   ]
  },
  {
   "cell_type": "code",
   "execution_count": 2,
   "metadata": {},
   "outputs": [
    {
     "name": "stdout",
     "output_type": "stream",
     "text": [
      "1198\n"
     ]
    }
   ],
   "source": [
    "dfuc95 = pd.read_csv('Data/result_uc95_list', header=None, sep=\"|\", usecols=[0,2], index_col=1, names=[\"clst\", \"accid\"])\n",
    "dfuc95['clst']=dfuc95['clst'].map(lambda x: 'OTU'+str(x))\n",
    "print(len(dfuc95))"
   ]
  },
  {
   "cell_type": "code",
   "execution_count": 3,
   "metadata": {},
   "outputs": [],
   "source": [
    "Italic =   ['$\\it{In}$ $\\it{situ}$ total RNA 1', '$\\it{In}$ $\\it{situ}$ total RNA 2', '$\\it{In}$ $\\it{situ}$ total RNA 3', '$\\it{In}$ $\\it{situ}$ total RNA 4', '$\\it{In}$ $\\it{situ}$ total RNA 5',\n",
    "       '$\\it{In}$ $\\it{situ}$ total RNA 6', 'Onboard total RNA 1', 'Onboard total RNA 2', 'Onboard total RNA 3',\n",
    "       'Onboard total RNA 4', 'Onboard total RNA 5', 'Onboard total RNA 6', 'Onboard total RNA 7']\n",
    "\n",
    "dfcount = pd.read_csv('Data/count', header=0, index_col=0, sep='\\t')\n",
    "dfcount.head()\n",
    "\n",
    "dfcount_clst=pd.concat([dfuc95, dfcount], axis=1, sort=False)\n",
    "\n",
    "otutable=dfcount_clst.groupby('clst').sum()\n",
    "otutable=otutable.astype(int)\n",
    "otutable.columns=Italic\n",
    "\n",
    "otutable.drop(otutable.columns[[0]], axis=1, inplace=True)"
   ]
  },
  {
   "cell_type": "code",
   "execution_count": 4,
   "metadata": {},
   "outputs": [],
   "source": [
    "Italic =   ['$\\it{In}$ $\\it{situ}$ total RNA 2', '$\\it{In}$ $\\it{situ}$ total RNA 3', '$\\it{In}$ $\\it{situ}$ total RNA 4', '$\\it{In}$ $\\it{situ}$ total RNA 5',\n",
    "       '$\\it{In}$ $\\it{situ}$ total RNA 6', 'Onboard total RNA 1', 'Onboard total RNA 2', 'Onboard total RNA 3',\n",
    "       'Onboard total RNA 4', 'Onboard total RNA 5', 'Onboard total RNA 6', 'Onboard total RNA 7']\n",
    "\n",
    "data = [list(otutable[Italic[0]]), list(otutable[Italic[1]]), list(otutable[Italic[2]]), list(otutable[Italic[3]]), list(otutable[Italic[4]]),\n",
    "           list(otutable[Italic[5]]), list(otutable[Italic[6]]), list(otutable[Italic[7]]), list(otutable[Italic[8]]), list(otutable[Italic[9]]),\n",
    "           list(otutable[Italic[10]]), list(otutable[Italic[11]])]"
   ]
  },
  {
   "cell_type": "markdown",
   "metadata": {},
   "source": [
    "# Alpha beta diversity"
   ]
  },
  {
   "cell_type": "code",
   "execution_count": 5,
   "metadata": {},
   "outputs": [],
   "source": [
    "from scipy import stats\n",
    "\n",
    "def MannWhitneyU(df):\n",
    "    A=list(df[df['subject']=='insitu']['data'])\n",
    "    B=list(df[df['subject']=='onboard']['data'])\n",
    "    print(stats.mannwhitneyu(A, B, alternative='two-sided'))"
   ]
  },
  {
   "cell_type": "code",
   "execution_count": 6,
   "metadata": {},
   "outputs": [
    {
     "name": "stdout",
     "output_type": "stream",
     "text": [
      "MannwhitneyuResult(statistic=24.0, pvalue=0.3290121841305219)\n",
      "MannwhitneyuResult(statistic=35.0, pvalue=0.005766120914237261)\n",
      "MannwhitneyuResult(statistic=26.0, pvalue=0.19387643074206262)\n"
     ]
    }
   ],
   "source": [
    "obs_otus=pd.DataFrame()\n",
    "shannon=pd.DataFrame()\n",
    "faith_pd=pd.DataFrame()\n",
    "\n",
    "subjects=['insitu','insitu','insitu','insitu','insitu','onboard','onboard','onboard','onboard','onboard','onboard','onboard']\n",
    "\n",
    "# observed OTUs\n",
    "obs_otus['data']=alpha_diversity('observed_otus', data, Italic)\n",
    "obs_otus['subject']=subjects\n",
    "obs_otus['metrics'] = 'Observed OTUs'\n",
    "MannWhitneyU(obs_otus)\n",
    "\n",
    "# shannon\n",
    "shannon['data']=alpha_diversity('shannon', data, Italic)\n",
    "shannon['subject']=subjects\n",
    "shannon['metrics'] = 'Shannon diversity'\n",
    "MannWhitneyU(shannon)\n",
    "\n",
    "# Faith’s PD\n",
    "otu_ids=list(otutable.index)\n",
    "\n",
    "with open('/nfs_share/motoki/metatra/fasttree/fasttree_GTRCAT_mafft') as f:\n",
    "    s = f.read()\n",
    "tree = TreeNode.read(StringIO(s)).root_at_midpoint()\n",
    "\n",
    "faith_pd['data']=alpha_diversity('faith_pd', data, ids=Italic, otu_ids=otu_ids, tree=tree)\n",
    "faith_pd['subject']=subjects\n",
    "faith_pd['metrics'] = \"Faith's PD\"\n",
    "MannWhitneyU(faith_pd)"
   ]
  },
  {
   "cell_type": "markdown",
   "metadata": {},
   "source": [
    "# Beta diversity"
   ]
  },
  {
   "cell_type": "code",
   "execution_count": 7,
   "metadata": {},
   "outputs": [],
   "source": [
    "sample_md = pd.DataFrame(index=Italic)\n",
    "sample_md['ids']=Italic\n",
    "sample_md['subject']=subjects\n",
    "#sample_md"
   ]
  },
  {
   "cell_type": "code",
   "execution_count": 8,
   "metadata": {},
   "outputs": [
    {
     "name": "stdout",
     "output_type": "stream",
     "text": [
      "PERMANOVA: 30.09906597294752\n",
      "0.002\n",
      "True\n"
     ]
    }
   ],
   "source": [
    "# weighted UniFrac distances\n",
    "wu_dm = beta_diversity(\"weighted_unifrac\", data, Italic, tree=tree,\n",
    "                       otu_ids=otu_ids)\n",
    "\n",
    "# PERMANOVA \n",
    "results = permanova(wu_dm, sample_md, column='subject', permutations=999)\n",
    "print('PERMANOVA:', results['test statistic']) #0.7632275132275134\n",
    "print(results['p-value'])\n",
    "print(results['p-value'] < 0.1)"
   ]
  }
 ],
 "metadata": {
  "kernelspec": {
   "display_name": "Environment (conda_skbio_py36)",
   "language": "python",
   "name": "conda_skbio_py36"
  },
  "language_info": {
   "codemirror_mode": {
    "name": "ipython",
    "version": 3
   },
   "file_extension": ".py",
   "mimetype": "text/x-python",
   "name": "python",
   "nbconvert_exporter": "python",
   "pygments_lexer": "ipython3",
   "version": "3.6.10"
  }
 },
 "nbformat": 4,
 "nbformat_minor": 2
}
