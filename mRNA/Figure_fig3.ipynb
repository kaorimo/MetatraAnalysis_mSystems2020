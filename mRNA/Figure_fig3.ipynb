{
 "cells": [
  {
   "cell_type": "code",
   "execution_count": 1,
   "metadata": {},
   "outputs": [],
   "source": [
    "import pandas as pd\n",
    "import numpy as np\n",
    "import math\n",
    "from scipy import stats\n",
    "\n",
    "import matplotlib\n",
    "import matplotlib.pyplot as plt\n",
    "import matplotlib.gridspec as gridspec\n",
    "import seaborn as sns"
   ]
  },
  {
   "cell_type": "markdown",
   "metadata": {},
   "source": [
    "# Input data"
   ]
  },
  {
   "cell_type": "code",
   "execution_count": 2,
   "metadata": {},
   "outputs": [
    {
     "name": "stderr",
     "output_type": "stream",
     "text": [
      "/home/motoki/local/lib/python3.6/site-packages/IPython/core/interactiveshell.py:3020: DtypeWarning: Columns (18) have mixed types. Specify dtype option on import or set low_memory=False.\n",
      "  interactivity=interactivity, compiler=compiler, result=result)\n"
     ]
    }
   ],
   "source": [
    "majortaxa = ['Thiotrichales', 'Methylococcales', 'Sulfurovum']\n",
    "ranks = ['order','order', 'genus']\n",
    "col = ['#ffc125','#7b68ee', '#ff7f24']\n",
    "\n",
    "df_ALL = pd.read_csv('Data/NRKG_tpm', index_col=0, header=[0], sep='\\t', dtype={'gi': str, 'taxid': str})\n",
    "df_ALL = df_ALL.rename(columns={'KO':'ko'})"
   ]
  },
  {
   "cell_type": "markdown",
   "metadata": {},
   "source": [
    "## Relative mRNA abundances of the three major taxa"
   ]
  },
  {
   "cell_type": "code",
   "execution_count": 3,
   "metadata": {},
   "outputs": [],
   "source": [
    "def cal_percent(df, sample):\n",
    "    return df[sample].apply(lambda x: x / df[sample].sum())"
   ]
  },
  {
   "cell_type": "code",
   "execution_count": 4,
   "metadata": {},
   "outputs": [
    {
     "name": "stdout",
     "output_type": "stream",
     "text": [
      "Thiotrichales : 49014\n",
      "Methylococcales : 27321\n",
      "Sulfurovum : 26141\n"
     ]
    },
    {
     "data": {
      "text/html": [
       "<div>\n",
       "<style scoped>\n",
       "    .dataframe tbody tr th:only-of-type {\n",
       "        vertical-align: middle;\n",
       "    }\n",
       "\n",
       "    .dataframe tbody tr th {\n",
       "        vertical-align: top;\n",
       "    }\n",
       "\n",
       "    .dataframe thead th {\n",
       "        text-align: right;\n",
       "    }\n",
       "</style>\n",
       "<table border=\"1\" class=\"dataframe\">\n",
       "  <thead>\n",
       "    <tr style=\"text-align: right;\">\n",
       "      <th></th>\n",
       "      <th>insitu1</th>\n",
       "      <th>insitu2</th>\n",
       "      <th>onboard1</th>\n",
       "      <th>onboard2</th>\n",
       "    </tr>\n",
       "  </thead>\n",
       "  <tbody>\n",
       "    <tr>\n",
       "      <th>Thiotrichales</th>\n",
       "      <td>225015</td>\n",
       "      <td>203930</td>\n",
       "      <td>382399</td>\n",
       "      <td>333755</td>\n",
       "    </tr>\n",
       "    <tr>\n",
       "      <th>Methylococcales</th>\n",
       "      <td>231595</td>\n",
       "      <td>273227</td>\n",
       "      <td>146010</td>\n",
       "      <td>199250</td>\n",
       "    </tr>\n",
       "    <tr>\n",
       "      <th>Sulfurovum</th>\n",
       "      <td>206130</td>\n",
       "      <td>175233</td>\n",
       "      <td>64529.1</td>\n",
       "      <td>116874</td>\n",
       "    </tr>\n",
       "  </tbody>\n",
       "</table>\n",
       "</div>"
      ],
      "text/plain": [
       "                insitu1 insitu2 onboard1 onboard2\n",
       "Thiotrichales    225015  203930   382399   333755\n",
       "Methylococcales  231595  273227   146010   199250\n",
       "Sulfurovum       206130  175233  64529.1   116874"
      ]
     },
     "execution_count": 4,
     "metadata": {},
     "output_type": "execute_result"
    }
   ],
   "source": [
    "samples=['insitu1', 'insitu2', 'onboard1', 'onboard2']\n",
    "\n",
    "# sum of TPM\n",
    "dfsum = pd.DataFrame(columns=samples, index=majortaxa)\n",
    "\n",
    "for i in range(len(majortaxa)):\n",
    "    dftaxa = df_ALL[df_ALL[ranks[i]] == majortaxa[i]]\n",
    "    print(majortaxa[i], \":\", len(dftaxa))\n",
    "    \n",
    "    dfsum.loc[majortaxa[i]] = dftaxa.loc[:, samples].sum()\n",
    "\n",
    "dfsum"
   ]
  },
  {
   "cell_type": "code",
   "execution_count": 5,
   "metadata": {},
   "outputs": [
    {
     "data": {
      "text/html": [
       "<div>\n",
       "<style scoped>\n",
       "    .dataframe tbody tr th:only-of-type {\n",
       "        vertical-align: middle;\n",
       "    }\n",
       "\n",
       "    .dataframe tbody tr th {\n",
       "        vertical-align: top;\n",
       "    }\n",
       "\n",
       "    .dataframe thead th {\n",
       "        text-align: right;\n",
       "    }\n",
       "</style>\n",
       "<table border=\"1\" class=\"dataframe\">\n",
       "  <thead>\n",
       "    <tr style=\"text-align: right;\">\n",
       "      <th></th>\n",
       "      <th>insitu1</th>\n",
       "      <th>insitu2</th>\n",
       "      <th>onboard1</th>\n",
       "      <th>onboard2</th>\n",
       "    </tr>\n",
       "  </thead>\n",
       "  <tbody>\n",
       "    <tr>\n",
       "      <th>Thiotrichales</th>\n",
       "      <td>0.339522</td>\n",
       "      <td>0.312589</td>\n",
       "      <td>0.644922</td>\n",
       "      <td>0.513565</td>\n",
       "    </tr>\n",
       "    <tr>\n",
       "      <th>Methylococcales</th>\n",
       "      <td>0.349451</td>\n",
       "      <td>0.418809</td>\n",
       "      <td>0.246249</td>\n",
       "      <td>0.306596</td>\n",
       "    </tr>\n",
       "    <tr>\n",
       "      <th>Sulfurovum</th>\n",
       "      <td>0.311027</td>\n",
       "      <td>0.268602</td>\n",
       "      <td>0.108829</td>\n",
       "      <td>0.179839</td>\n",
       "    </tr>\n",
       "  </tbody>\n",
       "</table>\n",
       "</div>"
      ],
      "text/plain": [
       "                  insitu1   insitu2  onboard1  onboard2\n",
       "Thiotrichales    0.339522  0.312589  0.644922  0.513565\n",
       "Methylococcales  0.349451  0.418809  0.246249  0.306596\n",
       "Sulfurovum       0.311027  0.268602  0.108829  0.179839"
      ]
     },
     "execution_count": 5,
     "metadata": {},
     "output_type": "execute_result"
    }
   ],
   "source": [
    "# relative abundance\n",
    "df_parcent = pd.DataFrame()\n",
    "\n",
    "for i in range(len(samples)):\n",
    "    df_parcent[samples[i]] = cal_percent(dfsum, samples[i])\n",
    "    \n",
    "df_parcent"
   ]
  },
  {
   "cell_type": "code",
   "execution_count": 6,
   "metadata": {},
   "outputs": [],
   "source": [
    "df_parcent.index = ['Thiotrichales', 'Methylococcales', '$\\it{Sulfurovum}$']\n",
    "df_parcent.columns = ['$\\it{In}$ $\\it{situ}$ mRNA 1', '$\\it{In}$ $\\it{situ}$ mRNA 2', 'Onboard mRNA 1', 'Onboard mRNA 2']\n",
    "df_fig_parcent = df_parcent[df_parcent.columns[::-1]]"
   ]
  },
  {
   "cell_type": "code",
   "execution_count": 7,
   "metadata": {
    "scrolled": true
   },
   "outputs": [
    {
     "data": {
      "text/plain": [
       "<Figure size 576x144 with 0 Axes>"
      ]
     },
     "metadata": {},
     "output_type": "display_data"
    },
    {
     "data": {
      "image/png": "[encoded data removed]",
      "text/plain": [
       "<Figure size 864x288 with 1 Axes>"
      ]
     },
     "metadata": {
      "needs_background": "light"
     },
     "output_type": "display_data"
    }
   ],
   "source": [
    "fig = plt.figure(figsize=(8, 2))\n",
    "\n",
    "df_fig_parcent.T.plot.barh(figsize=(12, 4), alpha=0.7, stacked=True, color=col, width=1, edgecolor='w', fontsize=15)\n",
    "\n",
    "plt.xlabel(\"Relative mRNA abundance\", fontsize=15)\n",
    "plt.legend(bbox_to_anchor=(0.5, -0.25), loc='upper center', borderaxespad=0, ncol=4, fontsize=15)\n",
    "\n",
    "plt.savefig('Figures/Fig3.pdf', bbox_inches='tight')\n",
    "\n",
    "plt.show()"
   ]
  }
 ],
 "metadata": {
  "kernelspec": {
   "display_name": "Python 3",
   "language": "python",
   "name": "python3"
  },
  "language_info": {
   "codemirror_mode": {
    "name": "ipython",
    "version": 3
   },
   "file_extension": ".py",
   "mimetype": "text/x-python",
   "name": "python",
   "nbconvert_exporter": "python",
   "pygments_lexer": "ipython3",
   "version": "3.6.7"
  }
 },
 "nbformat": 4,
 "nbformat_minor": 2
}
