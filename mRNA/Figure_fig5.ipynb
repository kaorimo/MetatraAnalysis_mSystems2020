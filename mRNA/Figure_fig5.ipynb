{
 "cells": [
  {
   "cell_type": "code",
   "execution_count": 1,
   "metadata": {},
   "outputs": [],
   "source": [
    "import pandas as pd\n",
    "import numpy as np\n",
    "import math\n",
    "\n",
    "from Bio.KEGG.REST import kegg_info\n",
    "from Bio.KEGG.REST import kegg_list\n",
    "from Bio.KEGG.REST import kegg_link\n",
    "\n",
    "import matplotlib\n",
    "import matplotlib.pyplot as plt\n",
    "import matplotlib.gridspec as gridspec\n",
    "import seaborn as sns"
   ]
  },
  {
   "cell_type": "code",
   "execution_count": 2,
   "metadata": {},
   "outputs": [],
   "source": [
    "dffig_pathway = pd.read_csv('Data/dffig_pathway', index_col=0, header=0, sep='\\t')\n",
    "dffig_pathway.set_index('pathway_name', inplace=True)"
   ]
  },
  {
   "cell_type": "code",
   "execution_count": 4,
   "metadata": {},
   "outputs": [],
   "source": [
    "majortaxa = ['Thiotrichales', 'Methylococcales', 'Sulfurovum']\n",
    "strings1=['Thio','Met','Sul']\n",
    "\n",
    "datalist = ['insitu1-log10','insitu2-log10','onboard1-log10','onboard2-log10']\n",
    "strings2=['i1','i2','o1','o2']\n",
    "\n",
    "dffig=pd.DataFrame()\n",
    "\n",
    "for i in range(len(majortaxa)):\n",
    "\n",
    "    dfout=dffig_pathway[dffig_pathway['taxa']==majortaxa[i]].loc[:,datalist]\n",
    "    \n",
    "    dfout.columns=strings2\n",
    "    dfout.rename(columns=lambda s : s+'_'+strings1[i], inplace=True)\n",
    "    \n",
    "    dffig=pd.concat([dffig,dfout], axis=1, sort=False)\n",
    "    \n",
    "dffig.fillna(1, inplace=True)\n",
    "dffig.to_csv(\"Data/dffig_fig5\", sep=\"\\t\")"
   ]
  }
 ],
 "metadata": {
  "kernelspec": {
   "display_name": "Python 3",
   "language": "python",
   "name": "python3"
  },
  "language_info": {
   "codemirror_mode": {
    "name": "ipython",
    "version": 3
   },
   "file_extension": ".py",
   "mimetype": "text/x-python",
   "name": "python",
   "nbconvert_exporter": "python",
   "pygments_lexer": "ipython3",
   "version": "3.6.7"
  }
 },
 "nbformat": 4,
 "nbformat_minor": 2
}
