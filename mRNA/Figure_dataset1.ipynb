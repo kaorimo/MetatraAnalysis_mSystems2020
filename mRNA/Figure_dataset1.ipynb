{
 "cells": [
  {
   "cell_type": "code",
   "execution_count": 1,
   "metadata": {},
   "outputs": [],
   "source": [
    "import pandas as pd\n",
    "import numpy as np\n",
    "import time\n",
    "import math\n",
    "\n",
    "from Bio.KEGG.REST import kegg_info\n",
    "from Bio.KEGG.REST import kegg_list\n",
    "from Bio.KEGG.REST import kegg_link\n",
    "\n",
    "import matplotlib\n",
    "import matplotlib.pyplot as plt\n",
    "import matplotlib.gridspec as gridspec\n",
    "import seaborn as sns"
   ]
  },
  {
   "cell_type": "code",
   "execution_count": 2,
   "metadata": {},
   "outputs": [
    {
     "data": {
      "text/html": [
       "<div>\n",
       "<style scoped>\n",
       "    .dataframe tbody tr th:only-of-type {\n",
       "        vertical-align: middle;\n",
       "    }\n",
       "\n",
       "    .dataframe tbody tr th {\n",
       "        vertical-align: top;\n",
       "    }\n",
       "\n",
       "    .dataframe thead th {\n",
       "        text-align: right;\n",
       "    }\n",
       "</style>\n",
       "<table border=\"1\" class=\"dataframe\">\n",
       "  <thead>\n",
       "    <tr style=\"text-align: right;\">\n",
       "      <th></th>\n",
       "      <th>ko</th>\n",
       "      <th>Gene</th>\n",
       "      <th>Module</th>\n",
       "      <th>Module_name</th>\n",
       "    </tr>\n",
       "  </thead>\n",
       "  <tbody>\n",
       "    <tr>\n",
       "      <th>0</th>\n",
       "      <td>K00001</td>\n",
       "      <td>E1.1.1.1, adh</td>\n",
       "      <td>NaN</td>\n",
       "      <td>NaN</td>\n",
       "    </tr>\n",
       "    <tr>\n",
       "      <th>1</th>\n",
       "      <td>K00002</td>\n",
       "      <td>AKR1A1, adh</td>\n",
       "      <td>M00014</td>\n",
       "      <td>Glucuronate pathway (uronate pathway)</td>\n",
       "    </tr>\n",
       "    <tr>\n",
       "      <th>2</th>\n",
       "      <td>K00002</td>\n",
       "      <td>AKR1A1, adh</td>\n",
       "      <td>M00129</td>\n",
       "      <td>Ascorbate biosynthesis, animals, glucose-1P =&gt;...</td>\n",
       "    </tr>\n",
       "    <tr>\n",
       "      <th>3</th>\n",
       "      <td>K00003</td>\n",
       "      <td>hom</td>\n",
       "      <td>M00017</td>\n",
       "      <td>Methionine biosynthesis, apartate =&gt; homoserin...</td>\n",
       "    </tr>\n",
       "    <tr>\n",
       "      <th>4</th>\n",
       "      <td>K00003</td>\n",
       "      <td>hom</td>\n",
       "      <td>M00018</td>\n",
       "      <td>Threonine biosynthesis, aspartate =&gt; homoserin...</td>\n",
       "    </tr>\n",
       "  </tbody>\n",
       "</table>\n",
       "</div>"
      ],
      "text/plain": [
       "       ko           Gene  Module  \\\n",
       "0  K00001  E1.1.1.1, adh     NaN   \n",
       "1  K00002    AKR1A1, adh  M00014   \n",
       "2  K00002    AKR1A1, adh  M00129   \n",
       "3  K00003            hom  M00017   \n",
       "4  K00003            hom  M00018   \n",
       "\n",
       "                                         Module_name  \n",
       "0                                                NaN  \n",
       "1              Glucuronate pathway (uronate pathway)  \n",
       "2  Ascorbate biosynthesis, animals, glucose-1P =>...  \n",
       "3  Methionine biosynthesis, apartate => homoserin...  \n",
       "4  Threonine biosynthesis, aspartate => homoserin...  "
      ]
     },
     "execution_count": 2,
     "metadata": {},
     "output_type": "execute_result"
    }
   ],
   "source": [
    "request = ''\n",
    "\n",
    "# KO\n",
    "open(\"Data/request\", 'w').write(kegg_list(\"ko\").read())\n",
    "df = pd.read_table('Data/request', header=None)\n",
    "df1 = df[0].str.replace('ko:','')\n",
    "df2 = df[1].str.replace(';','\\t').str.split('\\t', expand=True)\n",
    "\n",
    "df_ko = pd.concat([df1, df2.loc[:,:0]], axis=1)\n",
    "df_ko.columns =['ko','Gene']\n",
    "df_ko.head()\n",
    "\n",
    "# Module-KO\n",
    "open(\"Data/request\", 'w').write(kegg_link(\"module\",\"ko\").read())\n",
    "df = pd.read_table('Data/request', header=None)\n",
    "df[0] = df[0].str.replace('ko:','')\n",
    "df[1] = df[1].str.replace('md:','')\n",
    "df.columns = ['ko','Module']\n",
    "\n",
    "df_link = pd.merge(df_ko, df, on='ko', how='left')\n",
    "\n",
    "# Module\n",
    "open(\"request\", 'w').write(kegg_list(\"module\").read())\n",
    "df = pd.read_table('request', header=None)\n",
    "df[0] = df[0].str.replace('md:','')\n",
    "df.columns =['Module', 'Module_name']\n",
    "\n",
    "df_module_ko = pd.merge(df_link, df, on='Module', how='left')\n",
    "\n",
    "df_module_ko.head()"
   ]
  },
  {
   "cell_type": "markdown",
   "metadata": {},
   "source": [
    "## Input data"
   ]
  },
  {
   "cell_type": "code",
   "execution_count": 3,
   "metadata": {},
   "outputs": [],
   "source": [
    "col = ['black', '#7b68ee', '#ff7f24', '#ffc125']\n",
    "graph_list = ['All transcripts', 'Thiotrichales', 'Methylococcales', 'Sulfurovum']\n",
    "taxa_list = ['Thiotrichales', 'Methylococcales', 'Sulfurovum']"
   ]
  },
  {
   "cell_type": "code",
   "execution_count": 4,
   "metadata": {},
   "outputs": [],
   "source": [
    "dffig_ko = pd.read_csv('Data/dffig_ko', index_col=0, header=0, usecols=['ko','insitu1', 'insitu2', 'onboard1', 'onboard2','taxa'], sep='\\t')"
   ]
  },
  {
   "cell_type": "code",
   "execution_count": 5,
   "metadata": {},
   "outputs": [],
   "source": [
    "dffig_ko.reset_index(inplace=True)\n",
    "dffig_komodule=pd.merge(df_module_ko, dffig_ko, on='ko', how='right')"
   ]
  },
  {
   "cell_type": "code",
   "execution_count": 6,
   "metadata": {
    "scrolled": false
   },
   "outputs": [],
   "source": [
    "# chemolithotrophic metabolisms\n",
    "modulelist = ['M00165', 'M00173', 'M00579','M00376','M00375', 'M00374','M00377','M00620', \n",
    "               'M00175','M00531','M00530','M00529','M00804',\n",
    "               'M00174','M00346','M00345','M00344','M00140',\n",
    "               'M00176','M00596','M00595',\n",
    "               'M00144','M00149','M00150','M00151','M00155', 'M00153','M00417','M00416','M00156','M00157','M00159']\n",
    "\n",
    "kolist = ['K00122', 'K10713', 'K10714','K01499', 'K17229','K17230','K17218']"
   ]
  },
  {
   "cell_type": "code",
   "execution_count": 7,
   "metadata": {},
   "outputs": [],
   "source": [
    "def extract_data(selectlist, colname):\n",
    "    output = pd.DataFrame()\n",
    "    dfoutput = pd.DataFrame()\n",
    "    \n",
    "    for i in range(len(graph_list)):\n",
    "        dftaxa = dffig_komodule[dffig_komodule['taxa'] == graph_list[i]]\n",
    "        \n",
    "        for j in range(len(selectlist)):\n",
    "            dftmp = dftaxa[dftaxa[colname] == selectlist[j]]\n",
    "            output = pd.concat([output, dftmp], sort=False)\n",
    "        dfoutput=pd.concat([dfoutput, output], sort=False)\n",
    "    return dfoutput\n",
    "\n",
    "df_selectM = extract_data(modulelist, \"Module\")\n",
    "df_selectK = extract_data(kolist, \"ko\")\n",
    "\n",
    "df_selected = pd.concat([df_selectM, df_selectK])"
   ]
  },
  {
   "cell_type": "code",
   "execution_count": 8,
   "metadata": {},
   "outputs": [],
   "source": [
    "df_selected.columns=['KO', 'Gene', 'Module', 'Module_name',\n",
    "                     '$\\it{In}$ $\\it{situ}$ mRNA 1', '$\\it{In}$ $\\it{situ}$ mRNA 2', 'Onboard mRNA 1', 'Onboard mRNA 2', 'taxa']"
   ]
  },
  {
   "cell_type": "code",
   "execution_count": 9,
   "metadata": {},
   "outputs": [],
   "source": [
    "df_selected.to_csv(\"Figures/DataSet1\", sep=\"\\t\")   # 出力"
   ]
  }
 ],
 "metadata": {
  "kernelspec": {
   "display_name": "Python 3",
   "language": "python",
   "name": "python3"
  },
  "language_info": {
   "codemirror_mode": {
    "name": "ipython",
    "version": 3
   },
   "file_extension": ".py",
   "mimetype": "text/x-python",
   "name": "python",
   "nbconvert_exporter": "python",
   "pygments_lexer": "ipython3",
   "version": "3.6.7"
  }
 },
 "nbformat": 4,
 "nbformat_minor": 2
}
